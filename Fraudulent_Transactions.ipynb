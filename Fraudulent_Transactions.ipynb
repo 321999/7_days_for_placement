{
  "nbformat": 4,
  "nbformat_minor": 0,
  "metadata": {
    "colab": {
      "provenance": [],
      "toc_visible": true,
      "authorship_tag": "ABX9TyPVxw1zoHuuhxyKCxZRkpzE",
      "include_colab_link": true
    },
    "kernelspec": {
      "name": "python3",
      "display_name": "Python 3"
    },
    "language_info": {
      "name": "python"
    }
  },
  "cells": [
    {
      "cell_type": "markdown",
      "metadata": {
        "id": "view-in-github",
        "colab_type": "text"
      },
      "source": [
        "<a href=\"https://colab.research.google.com/github/321999/7_days_for_placement/blob/master/Fraudulent_Transactions.ipynb\" target=\"_parent\"><img src=\"https://colab.research.google.com/assets/colab-badge.svg\" alt=\"Open In Colab\"/></a>"
      ]
    },
    {
      "cell_type": "code",
      "execution_count": null,
      "metadata": {
        "id": "WuCJVU5AObbs"
      },
      "outputs": [],
      "source": [
        "!mkdir kishore"
      ]
    },
    {
      "cell_type": "markdown",
      "source": [
        "<mark>om gan gan ganpataye namah</mark>\n"
      ],
      "metadata": {
        "id": "G_cpYbwYT7Ei"
      }
    },
    {
      "cell_type": "code",
      "source": [
        "!pwd"
      ],
      "metadata": {
        "colab": {
          "base_uri": "https://localhost:8080/"
        },
        "id": "Rx-v2ApXUDNx",
        "outputId": "037ef7ec-105d-4345-eda0-bc9829e0e7e1"
      },
      "execution_count": 3,
      "outputs": [
        {
          "output_type": "stream",
          "name": "stdout",
          "text": [
            "/content\n"
          ]
        }
      ]
    },
    {
      "cell_type": "code",
      "source": [
        "# # @title\n",
        "# from google.colab import drive\n",
        "# drive.mount('/content/drive')\n"
      ],
      "metadata": {
        "id": "aPY4GVvOYlFq"
      },
      "execution_count": 4,
      "outputs": []
    },
    {
      "cell_type": "markdown",
      "source": [
        "# !rmdir kishore/\n",
        "# !rmdir /s /q sample_data/\n",
        "\n",
        "\n",
        "to convert the normal text cell to code cell we use ctrl+M+Y and vice versa\n"
      ],
      "metadata": {
        "id": "cpztZmK8ZnTv"
      }
    },
    {
      "cell_type": "markdown",
      "source": [
        "# New Section"
      ],
      "metadata": {
        "id": "tjQ1m05cLovy"
      }
    },
    {
      "cell_type": "code",
      "source": [
        "print(\"\")"
      ],
      "metadata": {
        "id": "daYBgE6jco8M",
        "colab": {
          "base_uri": "https://localhost:8080/"
        },
        "outputId": "d5230a83-c92f-4a09-9fc2-333dddfb2604"
      },
      "execution_count": 5,
      "outputs": [
        {
          "output_type": "stream",
          "name": "stdout",
          "text": [
            "\n"
          ]
        }
      ]
    },
    {
      "cell_type": "code",
      "source": [
        "!mkdir FT"
      ],
      "metadata": {
        "id": "ANKBEOYtMTHR"
      },
      "execution_count": 6,
      "outputs": []
    },
    {
      "cell_type": "code",
      "source": [],
      "metadata": {
        "id": "KjVxuWtYMcqw"
      },
      "execution_count": null,
      "outputs": []
    }
  ]
}